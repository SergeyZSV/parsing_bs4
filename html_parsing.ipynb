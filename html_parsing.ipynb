{
 "cells": [
  {
   "cell_type": "markdown",
   "metadata": {
    "id": "wCrqMarvK-PA"
   },
   "source": [
    "# Парсинг HTML. BeautifulSoup."
   ]
  },
  {
   "cell_type": "markdown",
   "metadata": {
    "id": "qNIqIP2oLIys"
   },
   "source": [
    "### Скрейпинг и парсинг данных одной страницы."
   ]
  },
  {
   "cell_type": "code",
   "execution_count": null,
   "metadata": {
    "executionInfo": {
     "elapsed": 1226,
     "status": "ok",
     "timestamp": 1678441514723,
     "user": {
      "displayName": "Петр Рубин",
      "userId": "04613233041024729335"
     },
     "user_tz": -120
    },
    "id": "_-Aw5zP2ZqN3"
   },
   "outputs": [],
   "source": [
    "# Импорт необходимых библиотек\n",
    "from bs4 import BeautifulSoup\n",
    "import requests\n",
    "import pandas as pd\n",
    "import re\n",
    "import urllib.parse"
   ]
  },
  {
   "cell_type": "markdown",
   "metadata": {
    "id": "SXeOhYZvAF2U"
   },
   "source": [
    "## Скрейпинг нескольких страниц"
   ]
  },
  {
   "cell_type": "code",
   "execution_count": null,
   "metadata": {
    "id": "RSpVs1Tz84a0"
   },
   "outputs": [],
   "source": [
    "name =[]\n",
    "price =[]\n",
    "form = []\n",
    "content =[]\n",
    "manufacturer =[]\n",
    "output = {}\n",
    "\n",
    "url_1 = 'https://www.aptekaru.de'\n",
    "url = 'https://www.aptekaru.de/online-shop/allergie-heuschnupfen'\n",
    "\n",
    "while True:\n",
    "  \n",
    "  page = requests.get(url)\n",
    "  soup = BeautifulSoup(page.content, 'html.parser')\n",
    "  next_page_link = soup.find('a', ('class', 'arrow next'))\n",
    "  result = soup.find_all('div', ('class','product-box-container'))\n",
    "\n",
    "  url_2 = []\n",
    "  for i in result:\n",
    "    for link in i.find_all('div', ('class','product-box__image')):\n",
    "      url_2.append(link.find('a').get('href'))\n",
    "  \n",
    "  url_joined = []\n",
    "\n",
    "  for link in url_2:\n",
    "    url_joined.append(urllib.parse.urljoin(url_1, link))\n",
    "  \n",
    "  for i in url_joined:\n",
    "    response = requests.get(i)\n",
    "\n",
    "    soup = BeautifulSoup(response.content, 'html.parser')\n",
    "\n",
    "    # Парсинг названия товара. Обработка исключения: добавляем пустую строку.\n",
    "    try:\n",
    "      name.append(soup.find('h1', ('class', 'h2 mt-0 sm:mb-6')).text)\n",
    "    except:\n",
    "      name.append('')\n",
    "\n",
    "    # Парсинг цены товара. \n",
    "    try:\n",
    "      p = soup.find('p',('class','price-details text-grey-darker text-4xl font-sans font-bold mb-0')).find('span').text\n",
    "      p = p.replace(',', '.')\n",
    "      p = float(re.sub(r'[^\\d.]+', '', p))\n",
    "      price.append(p)\n",
    "    except:\n",
    "      price.append('')\n",
    "\n",
    "    # Парсинг формы выпуска товара.\n",
    "    try:\n",
    "      form.append(soup.find('div', text=re.compile('Форма выпуска:')).get_text(strip=True)[15:])\n",
    "    except:\n",
    "      form.append('')\n",
    "\n",
    "    # Парсинг содержания (веса) товара.  \n",
    "    try:  \n",
    "      cont = soup.find('div', text=re.compile('Содержание:')).get_text(strip=True)\n",
    "      cont = int(re.findall(r'\\d+', cont)[0])\n",
    "      content.append(cont)\n",
    "    except:\n",
    "      content.append('')\n",
    "\n",
    "    # Парсинг производителя товара.\n",
    "    try:\n",
    "      manufacturer.append(soup.find('div', text=re.compile('Производитель:')).get_text(strip=True)[15:])\n",
    "    except:\n",
    "      manufacturer.append('')\n",
    "\n",
    "    output = {'Name' : name, 'Price' : price, 'Form' : form, 'Content' : content, 'Manufacturer' : manufacturer}\n",
    "\n",
    "  if not next_page_link:\n",
    "    break\n",
    "  \n",
    "  url = url_1 + next_page_link['href']\n",
    "\n"
   ]
  },
  {
   "cell_type": "code",
   "execution_count": null,
   "metadata": {
    "colab": {
     "base_uri": "https://localhost:8080/",
     "height": 424
    },
    "executionInfo": {
     "elapsed": 270,
     "status": "ok",
     "timestamp": 1678445389260,
     "user": {
      "displayName": "Петр Рубин",
      "userId": "04613233041024729335"
     },
     "user_tz": -120
    },
    "id": "uRSeRaI4Avy-",
    "outputId": "3b4cc126-c6d1-4259-f693-b2384be89413"
   },
   "outputs": [],
   "source": [
    "df = pd.DataFrame(output)\n",
    "df"
   ]
  }
 ],
 "metadata": {
  "colab": {
   "authorship_tag": "ABX9TyPXCZLOQCs0q5XR8W/4wOPP",
   "provenance": []
  },
  "kernelspec": {
   "display_name": "Python 3",
   "language": "python",
   "name": "python3"
  },
  "language_info": {
   "codemirror_mode": {
    "name": "ipython",
    "version": 3
   },
   "file_extension": ".py",
   "mimetype": "text/x-python",
   "name": "python",
   "nbconvert_exporter": "python",
   "pygments_lexer": "ipython3",
   "version": "3.10.11"
  }
 },
 "nbformat": 4,
 "nbformat_minor": 1
}
